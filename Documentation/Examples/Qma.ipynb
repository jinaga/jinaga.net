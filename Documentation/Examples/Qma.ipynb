{
 "cells": [
  {
   "cell_type": "code",
   "execution_count": 1,
   "metadata": {
    "dotnet_interactive": {
     "language": "csharp"
    },
    "polyglot_notebook": {
     "kernelName": "csharp"
    }
   },
   "outputs": [
    {
     "data": {
      "text/html": [
       "<div><div></div><div></div><div><strong>Installed Packages</strong><ul><li><span>Jinaga, 0.11.17</span></li><li><span>Jinaga.Graphviz, 0.11.17</span></li><li><span>Jinaga.UnitTest, 0.11.17</span></li></ul></div></div>"
      ]
     },
     "metadata": {},
     "output_type": "display_data"
    }
   ],
   "source": [
    "#r \"nuget: Jinaga.Graphviz\"\n",
    "#r \"nuget: Jinaga.UnitTest\"\n",
    "#r \"nuget: Jinaga\""
   ]
  },
  {
   "cell_type": "code",
   "execution_count": 2,
   "metadata": {
    "dotnet_interactive": {
     "language": "csharp"
    },
    "polyglot_notebook": {
     "kernelName": "csharp"
    }
   },
   "outputs": [],
   "source": [
    "using Jinaga;\n",
    "using Jinaga.UnitTest;\n",
    "using Jinaga.Graphviz;"
   ]
  },
  {
   "cell_type": "code",
   "execution_count": 3,
   "metadata": {
    "dotnet_interactive": {
     "language": "csharp"
    },
    "polyglot_notebook": {
     "kernelName": "csharp"
    }
   },
   "outputs": [],
   "source": [
    "[FactType(\"Qma.UserName\")]\n",
    "public record UserName(string Value);\n",
    "\n",
    "/// <summary>\n",
    "/// Represents an organization, or business unit within an organization, that might need separate data.\n",
    "/// Can be thought of as a \"tenant.\" In practice, serves as a convenient root-level \"given\" for Jinaga queries,\n",
    "/// though <see cref=\"AppEnvironment\"/> is usually the better choice.\n",
    "/// </summary>\n",
    "[FactType(\"Qma.Company\")]\n",
    "public record Company(string Id);\n",
    "\n",
    "/// <summary>\n",
    "/// Represents a deployment environment, to allow server-side logic to easily ignore facts that may have\n",
    "/// (intentionally or unintentionally) been stored in the DB but were meant for a different environment.\n",
    "/// </summary>\n",
    "[FactType(\"Qma.AppEnvironment\")]\n",
    "public record AppEnvironment(Company Company, string Id);\n",
    "\n",
    "/// <summary>A unique identifier representing the current device.</summary>\n",
    "/// <remarks>This fact is device-specific, and unlikely to ever need to be pushed to a shared replicator.</remarks>\n",
    "[FactType(\"Qma.DeviceId\")]\n",
    "public record DeviceId(AppEnvironment Environment, string Value);\n",
    "\n",
    "/// <summary>\n",
    "/// A predecessor fact that represents unsynchronized state on this device. Orders that\n",
    "/// are not yet ready to be pushed to QOS, for example, are associated with a device session.\n",
    "/// </summary>\n",
    "/// <remarks>This fact is device-specific, and unlikely to ever need to be pushed to a shared replicator.</remarks>\n",
    "[FactType(\"Qma.DeviceSession\")]\n",
    "public record DeviceSession(DeviceId DeviceId, string SessionId);\n",
    "\n",
    "[FactType(\"Qma.Order.Saved\")]\n",
    "public record SavedOrder(\n",
    "    DeviceSession Session,\n",
    "    OrderDetails Details,\n",
    "    UserName SavedBy, // This fact contains a string that always looks something like `david.schwartz`\n",
    "    DateTime SavedOn,\n",
    "    SavedOrder[] History\n",
    ");\n",
    "\n",
    "/// <summary>When added, indicates that the given order is ready to sync.</summary>\n",
    "[FactType(\"Qma.Order.ReadyToSync\")]\n",
    "public record OrderReadyToSync(OrderDetails OrderDetails);\n",
    "\n",
    "[FactType(\"Qma.Order.Details\")]\n",
    "public record OrderDetails(\n",
    "    Order Order,\n",
    "   /* dozens of properties removed-- this is a very large fact/record. */\n",
    "   string details\n",
    ");\n",
    "\n",
    "/// <summary>A unique identifier representing an order.</summary>\n",
    "/// <remarks>Including the <see cref=\"AppEnvironment\"/> simplifies queries, which nearly always need to filter based on environment, as well as simplifying many facts, like <see cref=\"OrderReceived\"/>.</remarks>\n",
    "[FactType(\"Qma.Order\")]\n",
    "public record Order(AppEnvironment Environment, string OrderId);\n",
    "\n",
    "/// <summary>Acknowledgment that the order has been received by the central server, and the device no longer needs to preserve its related data.</summary>\n",
    "[FactType(\"Qma.Order.Received\")]\n",
    "public record OrderReceived(Order Order, DateTime ReceivedOn);"
   ]
  },
  {
   "cell_type": "code",
   "execution_count": 4,
   "metadata": {
    "dotnet_interactive": {
     "language": "csharp"
    },
    "polyglot_notebook": {
     "kernelName": "csharp"
    }
   },
   "outputs": [],
   "source": [
    "var jinagaClient = JinagaTest.Create();\n",
    "\n",
    "var company = await jinagaClient.Local.Fact(new Company(\"Qma\"));\n",
    "var environment = await jinagaClient.Local.Fact(new AppEnvironment(company, \"dev\"));\n",
    "var id = await jinagaClient.Local.Fact(new DeviceId(environment, \"device1\"));\n",
    "var session = await jinagaClient.Local.Fact(new DeviceSession(id, \"session1\"));\n",
    "var username = await jinagaClient.Local.Fact(new UserName(\"david.schwartz\"));\n",
    "var order = await jinagaClient.Local.Fact(new Order(environment, \"order1\"));\n",
    "var orderDetails = await jinagaClient.Local.Fact(new OrderDetails(order, \"details\"));\n",
    "var savedOrder = await jinagaClient.Local.Fact(new SavedOrder(session, orderDetails, username, DateTime.Now, new SavedOrder[0]));\n",
    "var orderReadyToSync = await jinagaClient.Fact(new OrderReadyToSync(orderDetails));"
   ]
  },
  {
   "cell_type": "markdown",
   "metadata": {},
   "source": [
    "## Full Graph"
   ]
  },
  {
   "cell_type": "code",
   "execution_count": 5,
   "metadata": {
    "dotnet_interactive": {
     "language": "csharp"
    },
    "polyglot_notebook": {
     "kernelName": "csharp"
    }
   },
   "outputs": [
    {
     "data": {
      "text/html": [
       "<?xml version=\"1.0\" encoding=\"UTF-8\" standalone=\"no\"?>\n",
       "<!DOCTYPE svg PUBLIC \"-//W3C//DTD SVG 1.1//EN\"\n",
       " \"http://www.w3.org/Graphics/SVG/1.1/DTD/svg11.dtd\">\n",
       "<!-- Generated by graphviz version 10.0.1 (20240210.2158)\n",
       " -->\n",
       "<!-- Pages: 1 -->\n",
       "<svg width=\"494pt\" height=\"488pt\"\n",
       " viewBox=\"0.00 0.00 494.38 488.00\" xmlns=\"http://www.w3.org/2000/svg\" xmlns:xlink=\"http://www.w3.org/1999/xlink\">\n",
       "<g id=\"graph0\" class=\"graph\" transform=\"scale(1 1) rotate(0) translate(4 484)\">\n",
       "<polygon fill=\"white\" stroke=\"none\" points=\"-4,4 -4,-484 490.38,-484 490.38,4 -4,4\"/>\n",
       "<!-- ZFZ4ikj7MZtua5Bb8biXf3SMrWKissbFZ3isr/mGIRnZmovMFH6IyZGKroghGFWHDC+mZEDBX6U2JWmNb8RIIA== -->\n",
       "<g id=\"node1\" class=\"node\">\n",
       "<title>ZFZ4ikj7MZtua5Bb8biXf3SMrWKissbFZ3isr/mGIRnZmovMFH6IyZGKroghGFWHDC+mZEDBX6U2JWmNb8RIIA==</title>\n",
       "<polygon fill=\"none\" stroke=\"black\" points=\"222,-453 222,-475 312,-475 312,-453 222,-453\"/>\n",
       "<text text-anchor=\"start\" x=\"225\" y=\"-458.7\" font-family=\"Times,serif\" font-size=\"14.00\">Qma.Company</text>\n",
       "<polygon fill=\"none\" stroke=\"black\" points=\"222,-431 222,-453 259,-453 259,-431 222,-431\"/>\n",
       "<text text-anchor=\"start\" x=\"234.88\" y=\"-436.7\" font-family=\"Times,serif\" font-size=\"14.00\">Id</text>\n",
       "<polygon fill=\"none\" stroke=\"black\" points=\"259,-431 259,-453 312,-453 312,-431 259,-431\"/>\n",
       "<text text-anchor=\"start\" x=\"272\" y=\"-436.7\" font-family=\"Times,serif\" font-size=\"14.00\">Qma</text>\n",
       "<polygon fill=\"none\" stroke=\"black\" points=\"221,-430 221,-476 313,-476 313,-430 221,-430\"/>\n",
       "</g>\n",
       "<!-- jydLjhvSHzATwXCp6k0s74lqNDSl4X++kikv39cDTJ1hlqr9MO47id955oKsrMWO9hPd82LLvnp9L5AuPRPgEw== -->\n",
       "<g id=\"node2\" class=\"node\">\n",
       "<title>jydLjhvSHzATwXCp6k0s74lqNDSl4X++kikv39cDTJ1hlqr9MO47id955oKsrMWO9hPd82LLvnp9L5AuPRPgEw==</title>\n",
       "<polygon fill=\"none\" stroke=\"black\" points=\"201.5,-346.5 201.5,-368.5 332.5,-368.5 332.5,-346.5 201.5,-346.5\"/>\n",
       "<text text-anchor=\"start\" x=\"204.38\" y=\"-352.2\" font-family=\"Times,serif\" font-size=\"14.00\">Qma.AppEnvironment</text>\n",
       "<polygon fill=\"none\" stroke=\"black\" points=\"201.5,-324.5 201.5,-346.5 262.5,-346.5 262.5,-324.5 201.5,-324.5\"/>\n",
       "<text text-anchor=\"start\" x=\"226.38\" y=\"-330.2\" font-family=\"Times,serif\" font-size=\"14.00\">Id</text>\n",
       "<polygon fill=\"none\" stroke=\"black\" points=\"262.5,-324.5 262.5,-346.5 332.5,-346.5 332.5,-324.5 262.5,-324.5\"/>\n",
       "<text text-anchor=\"start\" x=\"287.75\" y=\"-330.2\" font-family=\"Times,serif\" font-size=\"14.00\">dev</text>\n",
       "<polygon fill=\"none\" stroke=\"black\" points=\"200.5,-323.5 200.5,-369.5 333.5,-369.5 333.5,-323.5 200.5,-323.5\"/>\n",
       "</g>\n",
       "<!-- jydLjhvSHzATwXCp6k0s74lqNDSl4X++kikv39cDTJ1hlqr9MO47id955oKsrMWO9hPd82LLvnp9L5AuPRPgEw==&#45;&gt;ZFZ4ikj7MZtua5Bb8biXf3SMrWKissbFZ3isr/mGIRnZmovMFH6IyZGKroghGFWHDC+mZEDBX6U2JWmNb8RIIA== -->\n",
       "<g id=\"edge1\" class=\"edge\">\n",
       "<title>jydLjhvSHzATwXCp6k0s74lqNDSl4X++kikv39cDTJ1hlqr9MO47id955oKsrMWO9hPd82LLvnp9L5AuPRPgEw==&#45;&gt;ZFZ4ikj7MZtua5Bb8biXf3SMrWKissbFZ3isr/mGIRnZmovMFH6IyZGKroghGFWHDC+mZEDBX6U2JWmNb8RIIA==</title>\n",
       "<path fill=\"none\" stroke=\"black\" d=\"M267,-373.33C267,-385.89 267,-401.22 267,-414.99\"/>\n",
       "<polygon fill=\"black\" stroke=\"black\" points=\"263.5,-414.59 267,-424.59 270.5,-414.59 263.5,-414.59\"/>\n",
       "<text text-anchor=\"middle\" x=\"293.62\" y=\"-394.7\" font-family=\"Times,serif\" font-size=\"14.00\">Company</text>\n",
       "</g>\n",
       "<!-- XecajLMJms1hJ7t9IFcoI50OhyV0ADM/dHasOrlKf9tsaJze8iy5Qxzbp+oWRJR2XBUkYyQ37pkp4DIBimLoFA== -->\n",
       "<g id=\"node3\" class=\"node\">\n",
       "<title>XecajLMJms1hJ7t9IFcoI50OhyV0ADM/dHasOrlKf9tsaJze8iy5Qxzbp+oWRJR2XBUkYyQ37pkp4DIBimLoFA==</title>\n",
       "<polygon fill=\"none\" stroke=\"black\" points=\"162,-240 162,-262 248,-262 248,-240 162,-240\"/>\n",
       "<text text-anchor=\"start\" x=\"164.88\" y=\"-245.7\" font-family=\"Times,serif\" font-size=\"14.00\">Qma.DeviceId</text>\n",
       "<polygon fill=\"none\" stroke=\"black\" points=\"162,-218 162,-240 199,-240 199,-218 162,-218\"/>\n",
       "<text text-anchor=\"start\" x=\"165.12\" y=\"-223.7\" font-family=\"Times,serif\" font-size=\"14.00\">Value</text>\n",
       "<polygon fill=\"none\" stroke=\"black\" points=\"199,-218 199,-240 248,-240 248,-218 199,-218\"/>\n",
       "<text text-anchor=\"start\" x=\"202.5\" y=\"-223.7\" font-family=\"Times,serif\" font-size=\"14.00\">device1</text>\n",
       "<polygon fill=\"none\" stroke=\"black\" points=\"161,-217 161,-263 249,-263 249,-217 161,-217\"/>\n",
       "</g>\n",
       "<!-- XecajLMJms1hJ7t9IFcoI50OhyV0ADM/dHasOrlKf9tsaJze8iy5Qxzbp+oWRJR2XBUkYyQ37pkp4DIBimLoFA==&#45;&gt;jydLjhvSHzATwXCp6k0s74lqNDSl4X++kikv39cDTJ1hlqr9MO47id955oKsrMWO9hPd82LLvnp9L5AuPRPgEw== -->\n",
       "<g id=\"edge2\" class=\"edge\">\n",
       "<title>XecajLMJms1hJ7t9IFcoI50OhyV0ADM/dHasOrlKf9tsaJze8iy5Qxzbp+oWRJR2XBUkYyQ37pkp4DIBimLoFA==&#45;&gt;jydLjhvSHzATwXCp6k0s74lqNDSl4X++kikv39cDTJ1hlqr9MO47id955oKsrMWO9hPd82LLvnp9L5AuPRPgEw==</title>\n",
       "<path fill=\"none\" stroke=\"black\" d=\"M219.52,-266.72C225.68,-277.51 232.99,-290.16 239.75,-301.5 241.39,-304.25 243.1,-307.08 244.83,-309.93\"/>\n",
       "<polygon fill=\"black\" stroke=\"black\" points=\"241.72,-311.54 249.93,-318.24 247.68,-307.88 241.72,-311.54\"/>\n",
       "<text text-anchor=\"middle\" x=\"275.62\" y=\"-288.2\" font-family=\"Times,serif\" font-size=\"14.00\">Environment</text>\n",
       "</g>\n",
       "<!-- epADD4VN1Bpd8pFfIKBCXjB4Jo8yVW1DiCgPf2jm4ztjDgDQ1aTlu+0EftYSCL77mTIWg6orrUKDQ+vKySzVzQ== -->\n",
       "<g id=\"node4\" class=\"node\">\n",
       "<title>epADD4VN1Bpd8pFfIKBCXjB4Jo8yVW1DiCgPf2jm4ztjDgDQ1aTlu+0EftYSCL77mTIWg6orrUKDQ+vKySzVzQ==</title>\n",
       "<polygon fill=\"none\" stroke=\"black\" points=\"9,-133.5 9,-155.5 125,-155.5 125,-133.5 9,-133.5\"/>\n",
       "<text text-anchor=\"start\" x=\"11.88\" y=\"-139.2\" font-family=\"Times,serif\" font-size=\"14.00\">Qma.DeviceSession</text>\n",
       "<polygon fill=\"none\" stroke=\"black\" points=\"9,-111.5 9,-133.5 70,-133.5 70,-111.5 9,-111.5\"/>\n",
       "<text text-anchor=\"start\" x=\"13.25\" y=\"-117.2\" font-family=\"Times,serif\" font-size=\"14.00\">SessionId</text>\n",
       "<polygon fill=\"none\" stroke=\"black\" points=\"70,-111.5 70,-133.5 125,-133.5 125,-111.5 70,-111.5\"/>\n",
       "<text text-anchor=\"start\" x=\"74.62\" y=\"-117.2\" font-family=\"Times,serif\" font-size=\"14.00\">session1</text>\n",
       "<polygon fill=\"none\" stroke=\"black\" points=\"8,-110.5 8,-156.5 126,-156.5 126,-110.5 8,-110.5\"/>\n",
       "</g>\n",
       "<!-- epADD4VN1Bpd8pFfIKBCXjB4Jo8yVW1DiCgPf2jm4ztjDgDQ1aTlu+0EftYSCL77mTIWg6orrUKDQ+vKySzVzQ==&#45;&gt;XecajLMJms1hJ7t9IFcoI50OhyV0ADM/dHasOrlKf9tsaJze8iy5Qxzbp+oWRJR2XBUkYyQ37pkp4DIBimLoFA== -->\n",
       "<g id=\"edge3\" class=\"edge\">\n",
       "<title>epADD4VN1Bpd8pFfIKBCXjB4Jo8yVW1DiCgPf2jm4ztjDgDQ1aTlu+0EftYSCL77mTIWg6orrUKDQ+vKySzVzQ==&#45;&gt;XecajLMJms1hJ7t9IFcoI50OhyV0ADM/dHasOrlKf9tsaJze8iy5Qxzbp+oWRJR2XBUkYyQ37pkp4DIBimLoFA==</title>\n",
       "<path fill=\"none\" stroke=\"black\" d=\"M101.11,-160.33C119.44,-174.21 142.23,-191.46 161.78,-206.27\"/>\n",
       "<polygon fill=\"black\" stroke=\"black\" points=\"159.51,-208.94 169.6,-212.19 163.74,-203.36 159.51,-208.94\"/>\n",
       "<text text-anchor=\"middle\" x=\"169.75\" y=\"-181.7\" font-family=\"Times,serif\" font-size=\"14.00\">DeviceId</text>\n",
       "</g>\n",
       "<!-- 2gM4MV11nAT5id647aUB0yaN5c9vNMsyMkFu9mtrqrOy0DD6jMcwhNq3mVYNknupavhxkWdg0Qhg+qLnNW8bcQ== -->\n",
       "<g id=\"node5\" class=\"node\">\n",
       "<title>2gM4MV11nAT5id647aUB0yaN5c9vNMsyMkFu9mtrqrOy0DD6jMcwhNq3mVYNknupavhxkWdg0Qhg+qLnNW8bcQ==</title>\n",
       "<polygon fill=\"none\" stroke=\"black\" points=\"161.5,-133.5 161.5,-155.5 284.5,-155.5 284.5,-133.5 161.5,-133.5\"/>\n",
       "<text text-anchor=\"start\" x=\"178.38\" y=\"-139.2\" font-family=\"Times,serif\" font-size=\"14.00\">Qma.UserName</text>\n",
       "<polygon fill=\"none\" stroke=\"black\" points=\"161.5,-111.5 161.5,-133.5 197.5,-133.5 197.5,-111.5 161.5,-111.5\"/>\n",
       "<text text-anchor=\"start\" x=\"164.12\" y=\"-117.2\" font-family=\"Times,serif\" font-size=\"14.00\">Value</text>\n",
       "<polygon fill=\"none\" stroke=\"black\" points=\"197.5,-111.5 197.5,-133.5 284.5,-133.5 284.5,-111.5 197.5,-111.5\"/>\n",
       "<text text-anchor=\"start\" x=\"200.12\" y=\"-117.2\" font-family=\"Times,serif\" font-size=\"14.00\">david.schwartz</text>\n",
       "<polygon fill=\"none\" stroke=\"black\" points=\"160.5,-110.5 160.5,-156.5 285.5,-156.5 285.5,-110.5 160.5,-110.5\"/>\n",
       "</g>\n",
       "<!-- h3+4yk2W+2LkTdRMVjFi3vqZLe6vUoOhUSYjf137gSmCP4dgcGsj11hPHVBL7wSSTDAnxtSdyEFTvjhlKcDYOQ== -->\n",
       "<g id=\"node6\" class=\"node\">\n",
       "<title>h3+4yk2W+2LkTdRMVjFi3vqZLe6vUoOhUSYjf137gSmCP4dgcGsj11hPHVBL7wSSTDAnxtSdyEFTvjhlKcDYOQ==</title>\n",
       "<polygon fill=\"none\" stroke=\"black\" points=\"307.5,-240 307.5,-262 396.5,-262 396.5,-240 307.5,-240\"/>\n",
       "<text text-anchor=\"start\" x=\"320.88\" y=\"-245.7\" font-family=\"Times,serif\" font-size=\"14.00\">Qma.Order</text>\n",
       "<polygon fill=\"none\" stroke=\"black\" points=\"307.5,-218 307.5,-240 355.5,-240 355.5,-218 307.5,-218\"/>\n",
       "<text text-anchor=\"start\" x=\"310.12\" y=\"-223.7\" font-family=\"Times,serif\" font-size=\"14.00\">OrderId</text>\n",
       "<polygon fill=\"none\" stroke=\"black\" points=\"355.5,-218 355.5,-240 396.5,-240 396.5,-218 355.5,-218\"/>\n",
       "<text text-anchor=\"start\" x=\"358.38\" y=\"-223.7\" font-family=\"Times,serif\" font-size=\"14.00\">order1</text>\n",
       "<polygon fill=\"none\" stroke=\"black\" points=\"306.5,-217 306.5,-263 397.5,-263 397.5,-217 306.5,-217\"/>\n",
       "</g>\n",
       "<!-- h3+4yk2W+2LkTdRMVjFi3vqZLe6vUoOhUSYjf137gSmCP4dgcGsj11hPHVBL7wSSTDAnxtSdyEFTvjhlKcDYOQ==&#45;&gt;jydLjhvSHzATwXCp6k0s74lqNDSl4X++kikv39cDTJ1hlqr9MO47id955oKsrMWO9hPd82LLvnp9L5AuPRPgEw== -->\n",
       "<g id=\"edge4\" class=\"edge\">\n",
       "<title>h3+4yk2W+2LkTdRMVjFi3vqZLe6vUoOhUSYjf137gSmCP4dgcGsj11hPHVBL7wSSTDAnxtSdyEFTvjhlKcDYOQ==&#45;&gt;jydLjhvSHzATwXCp6k0s74lqNDSl4X++kikv39cDTJ1hlqr9MO47id955oKsrMWO9hPd82LLvnp9L5AuPRPgEw==</title>\n",
       "<path fill=\"none\" stroke=\"black\" d=\"M336.07,-266.79C328.87,-277.83 319.97,-290.64 311,-301.5 308.22,-304.87 305.21,-308.27 302.13,-311.62\"/>\n",
       "<polygon fill=\"black\" stroke=\"black\" points=\"299.79,-309 295.42,-318.65 304.85,-313.83 299.79,-309\"/>\n",
       "<text text-anchor=\"middle\" x=\"359.62\" y=\"-288.2\" font-family=\"Times,serif\" font-size=\"14.00\">Environment</text>\n",
       "</g>\n",
       "<!-- 5e+Na/ub4ZYYipZDDdEQ/JfUROKxdUQ36egWj0wBvGJE0fk+ZU86GtKBZFCQVzBhZc1HVfFJe+zZfoynlAeK3w== -->\n",
       "<g id=\"node7\" class=\"node\">\n",
       "<title>5e+Na/ub4ZYYipZDDdEQ/JfUROKxdUQ36egWj0wBvGJE0fk+ZU86GtKBZFCQVzBhZc1HVfFJe+zZfoynlAeK3w==</title>\n",
       "<polygon fill=\"none\" stroke=\"black\" points=\"320.5,-133.5 320.5,-155.5 429.5,-155.5 429.5,-133.5 320.5,-133.5\"/>\n",
       "<text text-anchor=\"start\" x=\"323.25\" y=\"-139.2\" font-family=\"Times,serif\" font-size=\"14.00\">Qma.Order.Details</text>\n",
       "<polygon fill=\"none\" stroke=\"black\" points=\"320.5,-111.5 320.5,-133.5 374.5,-133.5 374.5,-111.5 320.5,-111.5\"/>\n",
       "<text text-anchor=\"start\" x=\"329.88\" y=\"-117.2\" font-family=\"Times,serif\" font-size=\"14.00\">details</text>\n",
       "<polygon fill=\"none\" stroke=\"black\" points=\"374.5,-111.5 374.5,-133.5 429.5,-133.5 429.5,-111.5 374.5,-111.5\"/>\n",
       "<text text-anchor=\"start\" x=\"384.38\" y=\"-117.2\" font-family=\"Times,serif\" font-size=\"14.00\">details</text>\n",
       "<polygon fill=\"none\" stroke=\"black\" points=\"319.5,-110.5 319.5,-156.5 430.5,-156.5 430.5,-110.5 319.5,-110.5\"/>\n",
       "</g>\n",
       "<!-- 5e+Na/ub4ZYYipZDDdEQ/JfUROKxdUQ36egWj0wBvGJE0fk+ZU86GtKBZFCQVzBhZc1HVfFJe+zZfoynlAeK3w==&#45;&gt;h3+4yk2W+2LkTdRMVjFi3vqZLe6vUoOhUSYjf137gSmCP4dgcGsj11hPHVBL7wSSTDAnxtSdyEFTvjhlKcDYOQ== -->\n",
       "<g id=\"edge5\" class=\"edge\">\n",
       "<title>5e+Na/ub4ZYYipZDDdEQ/JfUROKxdUQ36egWj0wBvGJE0fk+ZU86GtKBZFCQVzBhZc1HVfFJe+zZfoynlAeK3w==&#45;&gt;h3+4yk2W+2LkTdRMVjFi3vqZLe6vUoOhUSYjf137gSmCP4dgcGsj11hPHVBL7wSSTDAnxtSdyEFTvjhlKcDYOQ==</title>\n",
       "<path fill=\"none\" stroke=\"black\" d=\"M369.31,-160.33C366.55,-172.89 363.18,-188.22 360.15,-201.99\"/>\n",
       "<polygon fill=\"black\" stroke=\"black\" points=\"356.76,-201.11 358.03,-211.63 363.59,-202.61 356.76,-201.11\"/>\n",
       "<text text-anchor=\"middle\" x=\"380.75\" y=\"-181.7\" font-family=\"Times,serif\" font-size=\"14.00\">Order</text>\n",
       "</g>\n",
       "<!-- DtJRPUdrQ6ehVm7HvI8kSRAAMrJPIiQlxgFcX95fQX7orqVMfYAxStvXHST/f9tEqz/ILkH/WV6yk+4aRByPKg== -->\n",
       "<g id=\"node8\" class=\"node\">\n",
       "<title>DtJRPUdrQ6ehVm7HvI8kSRAAMrJPIiQlxgFcX95fQX7orqVMfYAxStvXHST/f9tEqz/ILkH/WV6yk+4aRByPKg==</title>\n",
       "<polygon fill=\"none\" stroke=\"black\" points=\"97.5,-27 97.5,-49 292.5,-49 292.5,-27 97.5,-27\"/>\n",
       "<text text-anchor=\"start\" x=\"145.88\" y=\"-32.7\" font-family=\"Times,serif\" font-size=\"14.00\">Qma.Order.Saved</text>\n",
       "<polygon fill=\"none\" stroke=\"black\" points=\"97.5,-5 97.5,-27 152.5,-27 152.5,-5 97.5,-5\"/>\n",
       "<text text-anchor=\"start\" x=\"100.25\" y=\"-10.7\" font-family=\"Times,serif\" font-size=\"14.00\">SavedOn</text>\n",
       "<polygon fill=\"none\" stroke=\"black\" points=\"152.5,-5 152.5,-27 292.5,-27 292.5,-5 152.5,-5\"/>\n",
       "<text text-anchor=\"start\" x=\"155.38\" y=\"-10.7\" font-family=\"Times,serif\" font-size=\"14.00\">2024&#45;04&#45;28T14:41:36....</text>\n",
       "<polygon fill=\"none\" stroke=\"black\" points=\"96.5,-4 96.5,-50 293.5,-50 293.5,-4 96.5,-4\"/>\n",
       "</g>\n",
       "<!-- DtJRPUdrQ6ehVm7HvI8kSRAAMrJPIiQlxgFcX95fQX7orqVMfYAxStvXHST/f9tEqz/ILkH/WV6yk+4aRByPKg==&#45;&gt;epADD4VN1Bpd8pFfIKBCXjB4Jo8yVW1DiCgPf2jm4ztjDgDQ1aTlu+0EftYSCL77mTIWg6orrUKDQ+vKySzVzQ== -->\n",
       "<g id=\"edge6\" class=\"edge\">\n",
       "<title>DtJRPUdrQ6ehVm7HvI8kSRAAMrJPIiQlxgFcX95fQX7orqVMfYAxStvXHST/f9tEqz/ILkH/WV6yk+4aRByPKg==&#45;&gt;epADD4VN1Bpd8pFfIKBCXjB4Jo8yVW1DiCgPf2jm4ztjDgDQ1aTlu+0EftYSCL77mTIWg6orrUKDQ+vKySzVzQ==</title>\n",
       "<path fill=\"none\" stroke=\"black\" d=\"M163.36,-53.83C146.44,-67.65 125.42,-84.81 107.33,-99.57\"/>\n",
       "<polygon fill=\"black\" stroke=\"black\" points=\"105.43,-96.61 99.89,-105.65 109.85,-102.03 105.43,-96.61\"/>\n",
       "<text text-anchor=\"middle\" x=\"159.62\" y=\"-75.2\" font-family=\"Times,serif\" font-size=\"14.00\">Session</text>\n",
       "</g>\n",
       "<!-- DtJRPUdrQ6ehVm7HvI8kSRAAMrJPIiQlxgFcX95fQX7orqVMfYAxStvXHST/f9tEqz/ILkH/WV6yk+4aRByPKg==&#45;&gt;2gM4MV11nAT5id647aUB0yaN5c9vNMsyMkFu9mtrqrOy0DD6jMcwhNq3mVYNknupavhxkWdg0Qhg+qLnNW8bcQ== -->\n",
       "<g id=\"edge8\" class=\"edge\">\n",
       "<title>DtJRPUdrQ6ehVm7HvI8kSRAAMrJPIiQlxgFcX95fQX7orqVMfYAxStvXHST/f9tEqz/ILkH/WV6yk+4aRByPKg==&#45;&gt;2gM4MV11nAT5id647aUB0yaN5c9vNMsyMkFu9mtrqrOy0DD6jMcwhNq3mVYNknupavhxkWdg0Qhg+qLnNW8bcQ==</title>\n",
       "<path fill=\"none\" stroke=\"black\" d=\"M201.92,-53.83C205.29,-66.39 209.39,-81.72 213.08,-95.49\"/>\n",
       "<polygon fill=\"black\" stroke=\"black\" points=\"209.7,-96.39 215.67,-105.14 216.46,-94.58 209.7,-96.39\"/>\n",
       "<text text-anchor=\"middle\" x=\"235.38\" y=\"-75.2\" font-family=\"Times,serif\" font-size=\"14.00\">SavedBy</text>\n",
       "</g>\n",
       "<!-- DtJRPUdrQ6ehVm7HvI8kSRAAMrJPIiQlxgFcX95fQX7orqVMfYAxStvXHST/f9tEqz/ILkH/WV6yk+4aRByPKg==&#45;&gt;5e+Na/ub4ZYYipZDDdEQ/JfUROKxdUQ36egWj0wBvGJE0fk+ZU86GtKBZFCQVzBhZc1HVfFJe+zZfoynlAeK3w== -->\n",
       "<g id=\"edge7\" class=\"edge\">\n",
       "<title>DtJRPUdrQ6ehVm7HvI8kSRAAMrJPIiQlxgFcX95fQX7orqVMfYAxStvXHST/f9tEqz/ILkH/WV6yk+4aRByPKg==&#45;&gt;5e+Na/ub4ZYYipZDDdEQ/JfUROKxdUQ36egWj0wBvGJE0fk+ZU86GtKBZFCQVzBhZc1HVfFJe+zZfoynlAeK3w==</title>\n",
       "<path fill=\"none\" stroke=\"black\" d=\"M239.49,-53.83C264.05,-68.09 294.74,-85.9 320.7,-100.97\"/>\n",
       "<polygon fill=\"black\" stroke=\"black\" points=\"318.68,-103.85 329.08,-105.84 322.19,-97.8 318.68,-103.85\"/>\n",
       "<text text-anchor=\"middle\" x=\"315.12\" y=\"-75.2\" font-family=\"Times,serif\" font-size=\"14.00\">Details</text>\n",
       "</g>\n",
       "<!-- tNTC5vVkRPHLnuUw6e7cBufNGzycCu1ZKe8DLLlc3fs3VPaa7Vvo2nkfELboI564TJ3x6R1Gr1KokNX+Nh/9XQ== -->\n",
       "<g id=\"node9\" class=\"node\">\n",
       "<title>tNTC5vVkRPHLnuUw6e7cBufNGzycCu1ZKe8DLLlc3fs3VPaa7Vvo2nkfELboI564TJ3x6R1Gr1KokNX+Nh/9XQ==</title>\n",
       "<polygon fill=\"none\" stroke=\"black\" points=\"328.62,-15.75 328.62,-38.25 477.38,-38.25 477.38,-15.75 328.62,-15.75\"/>\n",
       "<text text-anchor=\"start\" x=\"332.12\" y=\"-21.95\" font-family=\"Times,serif\" font-size=\"14.00\">Qma.Order.ReadyToSync</text>\n",
       "<polygon fill=\"none\" stroke=\"black\" points=\"327.62,-14.75 327.62,-39.25 478.38,-39.25 478.38,-14.75 327.62,-14.75\"/>\n",
       "</g>\n",
       "<!-- tNTC5vVkRPHLnuUw6e7cBufNGzycCu1ZKe8DLLlc3fs3VPaa7Vvo2nkfELboI564TJ3x6R1Gr1KokNX+Nh/9XQ==&#45;&gt;5e+Na/ub4ZYYipZDDdEQ/JfUROKxdUQ36egWj0wBvGJE0fk+ZU86GtKBZFCQVzBhZc1HVfFJe+zZfoynlAeK3w== -->\n",
       "<g id=\"edge9\" class=\"edge\">\n",
       "<title>tNTC5vVkRPHLnuUw6e7cBufNGzycCu1ZKe8DLLlc3fs3VPaa7Vvo2nkfELboI564TJ3x6R1Gr1KokNX+Nh/9XQ==&#45;&gt;5e+Na/ub4ZYYipZDDdEQ/JfUROKxdUQ36egWj0wBvGJE0fk+ZU86GtKBZFCQVzBhZc1HVfFJe+zZfoynlAeK3w==</title>\n",
       "<path fill=\"none\" stroke=\"black\" d=\"M398.5,-44.79C394.82,-58.51 389.49,-78.42 384.83,-95.8\"/>\n",
       "<polygon fill=\"black\" stroke=\"black\" points=\"381.49,-94.74 382.29,-105.31 388.26,-96.55 381.49,-94.74\"/>\n",
       "<text text-anchor=\"middle\" x=\"425.88\" y=\"-75.2\" font-family=\"Times,serif\" font-size=\"14.00\">OrderDetails</text>\n",
       "</g>\n",
       "</g>\n",
       "</svg>\n"
      ]
     },
     "metadata": {},
     "output_type": "display_data"
    }
   ],
   "source": [
    "jinagaClient.RenderFacts(company, environment, id, session, username, order, orderDetails, savedOrder, orderReadyToSync)"
   ]
  },
  {
   "cell_type": "markdown",
   "metadata": {},
   "source": [
    "## Transitive Closure"
   ]
  },
  {
   "cell_type": "code",
   "execution_count": 6,
   "metadata": {
    "dotnet_interactive": {
     "language": "csharp"
    },
    "polyglot_notebook": {
     "kernelName": "csharp"
    }
   },
   "outputs": [
    {
     "data": {
      "text/html": [
       "<?xml version=\"1.0\" encoding=\"UTF-8\" standalone=\"no\"?>\n",
       "<!DOCTYPE svg PUBLIC \"-//W3C//DTD SVG 1.1//EN\"\n",
       " \"http://www.w3.org/Graphics/SVG/1.1/DTD/svg11.dtd\">\n",
       "<!-- Generated by graphviz version 10.0.1 (20240210.2158)\n",
       " -->\n",
       "<!-- Pages: 1 -->\n",
       "<svg width=\"175pt\" height=\"462pt\"\n",
       " viewBox=\"0.00 0.00 174.75 462.00\" xmlns=\"http://www.w3.org/2000/svg\" xmlns:xlink=\"http://www.w3.org/1999/xlink\">\n",
       "<g id=\"graph0\" class=\"graph\" transform=\"scale(1 1) rotate(0) translate(4 458)\">\n",
       "<polygon fill=\"white\" stroke=\"none\" points=\"-4,4 -4,-458 170.75,-458 170.75,4 -4,4\"/>\n",
       "<!-- ZFZ4ikj7MZtua5Bb8biXf3SMrWKissbFZ3isr/mGIRnZmovMFH6IyZGKroghGFWHDC+mZEDBX6U2JWmNb8RIIA== -->\n",
       "<g id=\"node1\" class=\"node\">\n",
       "<title>ZFZ4ikj7MZtua5Bb8biXf3SMrWKissbFZ3isr/mGIRnZmovMFH6IyZGKroghGFWHDC+mZEDBX6U2JWmNb8RIIA==</title>\n",
       "<polygon fill=\"none\" stroke=\"black\" points=\"38.38,-428 38.38,-450 128.38,-450 128.38,-428 38.38,-428\"/>\n",
       "<text text-anchor=\"start\" x=\"41.38\" y=\"-433.7\" font-family=\"Times,serif\" font-size=\"14.00\">Qma.Company</text>\n",
       "<polygon fill=\"none\" stroke=\"black\" points=\"38.38,-406 38.38,-428 75.38,-428 75.38,-406 38.38,-406\"/>\n",
       "<text text-anchor=\"start\" x=\"51.25\" y=\"-411.7\" font-family=\"Times,serif\" font-size=\"14.00\">Id</text>\n",
       "<polygon fill=\"none\" stroke=\"black\" points=\"75.38,-406 75.38,-428 128.38,-428 128.38,-406 75.38,-406\"/>\n",
       "<text text-anchor=\"start\" x=\"88.38\" y=\"-411.7\" font-family=\"Times,serif\" font-size=\"14.00\">Qma</text>\n",
       "</g>\n",
       "<!-- jydLjhvSHzATwXCp6k0s74lqNDSl4X++kikv39cDTJ1hlqr9MO47id955oKsrMWO9hPd82LLvnp9L5AuPRPgEw== -->\n",
       "<g id=\"node2\" class=\"node\">\n",
       "<title>jydLjhvSHzATwXCp6k0s74lqNDSl4X++kikv39cDTJ1hlqr9MO47id955oKsrMWO9hPd82LLvnp9L5AuPRPgEw==</title>\n",
       "<polygon fill=\"none\" stroke=\"black\" points=\"17.88,-323.5 17.88,-345.5 148.88,-345.5 148.88,-323.5 17.88,-323.5\"/>\n",
       "<text text-anchor=\"start\" x=\"20.75\" y=\"-329.2\" font-family=\"Times,serif\" font-size=\"14.00\">Qma.AppEnvironment</text>\n",
       "<polygon fill=\"none\" stroke=\"black\" points=\"17.88,-301.5 17.88,-323.5 78.88,-323.5 78.88,-301.5 17.88,-301.5\"/>\n",
       "<text text-anchor=\"start\" x=\"42.75\" y=\"-307.2\" font-family=\"Times,serif\" font-size=\"14.00\">Id</text>\n",
       "<polygon fill=\"none\" stroke=\"black\" points=\"78.88,-301.5 78.88,-323.5 148.88,-323.5 148.88,-301.5 78.88,-301.5\"/>\n",
       "<text text-anchor=\"start\" x=\"104.12\" y=\"-307.2\" font-family=\"Times,serif\" font-size=\"14.00\">dev</text>\n",
       "</g>\n",
       "<!-- jydLjhvSHzATwXCp6k0s74lqNDSl4X++kikv39cDTJ1hlqr9MO47id955oKsrMWO9hPd82LLvnp9L5AuPRPgEw==&#45;&gt;ZFZ4ikj7MZtua5Bb8biXf3SMrWKissbFZ3isr/mGIRnZmovMFH6IyZGKroghGFWHDC+mZEDBX6U2JWmNb8RIIA== -->\n",
       "<g id=\"edge1\" class=\"edge\">\n",
       "<title>jydLjhvSHzATwXCp6k0s74lqNDSl4X++kikv39cDTJ1hlqr9MO47id955oKsrMWO9hPd82LLvnp9L5AuPRPgEw==&#45;&gt;ZFZ4ikj7MZtua5Bb8biXf3SMrWKissbFZ3isr/mGIRnZmovMFH6IyZGKroghGFWHDC+mZEDBX6U2JWmNb8RIIA==</title>\n",
       "<path fill=\"none\" stroke=\"black\" d=\"M83.38,-349.31C83.38,-361.69 83.38,-376.89 83.38,-390.56\"/>\n",
       "<polygon fill=\"black\" stroke=\"black\" points=\"79.88,-390.55 83.38,-400.55 86.88,-390.55 79.88,-390.55\"/>\n",
       "<text text-anchor=\"middle\" x=\"110\" y=\"-370.7\" font-family=\"Times,serif\" font-size=\"14.00\">Company</text>\n",
       "</g>\n",
       "<!-- h3+4yk2W+2LkTdRMVjFi3vqZLe6vUoOhUSYjf137gSmCP4dgcGsj11hPHVBL7wSSTDAnxtSdyEFTvjhlKcDYOQ== -->\n",
       "<g id=\"node3\" class=\"node\">\n",
       "<title>h3+4yk2W+2LkTdRMVjFi3vqZLe6vUoOhUSYjf137gSmCP4dgcGsj11hPHVBL7wSSTDAnxtSdyEFTvjhlKcDYOQ==</title>\n",
       "<polygon fill=\"none\" stroke=\"black\" points=\"38.88,-219 38.88,-241 127.88,-241 127.88,-219 38.88,-219\"/>\n",
       "<text text-anchor=\"start\" x=\"52.25\" y=\"-224.7\" font-family=\"Times,serif\" font-size=\"14.00\">Qma.Order</text>\n",
       "<polygon fill=\"none\" stroke=\"black\" points=\"38.88,-197 38.88,-219 86.88,-219 86.88,-197 38.88,-197\"/>\n",
       "<text text-anchor=\"start\" x=\"41.5\" y=\"-202.7\" font-family=\"Times,serif\" font-size=\"14.00\">OrderId</text>\n",
       "<polygon fill=\"none\" stroke=\"black\" points=\"86.88,-197 86.88,-219 127.88,-219 127.88,-197 86.88,-197\"/>\n",
       "<text text-anchor=\"start\" x=\"89.75\" y=\"-202.7\" font-family=\"Times,serif\" font-size=\"14.00\">order1</text>\n",
       "</g>\n",
       "<!-- h3+4yk2W+2LkTdRMVjFi3vqZLe6vUoOhUSYjf137gSmCP4dgcGsj11hPHVBL7wSSTDAnxtSdyEFTvjhlKcDYOQ==&#45;&gt;jydLjhvSHzATwXCp6k0s74lqNDSl4X++kikv39cDTJ1hlqr9MO47id955oKsrMWO9hPd82LLvnp9L5AuPRPgEw== -->\n",
       "<g id=\"edge2\" class=\"edge\">\n",
       "<title>h3+4yk2W+2LkTdRMVjFi3vqZLe6vUoOhUSYjf137gSmCP4dgcGsj11hPHVBL7wSSTDAnxtSdyEFTvjhlKcDYOQ==&#45;&gt;jydLjhvSHzATwXCp6k0s74lqNDSl4X++kikv39cDTJ1hlqr9MO47id955oKsrMWO9hPd82LLvnp9L5AuPRPgEw==</title>\n",
       "<path fill=\"none\" stroke=\"black\" d=\"M83.38,-244.81C83.38,-257.19 83.38,-272.39 83.38,-286.06\"/>\n",
       "<polygon fill=\"black\" stroke=\"black\" points=\"79.88,-286.05 83.38,-296.05 86.88,-286.05 79.88,-286.05\"/>\n",
       "<text text-anchor=\"middle\" x=\"119\" y=\"-266.2\" font-family=\"Times,serif\" font-size=\"14.00\">Environment</text>\n",
       "</g>\n",
       "<!-- 5e+Na/ub4ZYYipZDDdEQ/JfUROKxdUQ36egWj0wBvGJE0fk+ZU86GtKBZFCQVzBhZc1HVfFJe+zZfoynlAeK3w== -->\n",
       "<g id=\"node4\" class=\"node\">\n",
       "<title>5e+Na/ub4ZYYipZDDdEQ/JfUROKxdUQ36egWj0wBvGJE0fk+ZU86GtKBZFCQVzBhZc1HVfFJe+zZfoynlAeK3w==</title>\n",
       "<polygon fill=\"none\" stroke=\"black\" points=\"28.88,-114.5 28.88,-136.5 137.88,-136.5 137.88,-114.5 28.88,-114.5\"/>\n",
       "<text text-anchor=\"start\" x=\"31.62\" y=\"-120.2\" font-family=\"Times,serif\" font-size=\"14.00\">Qma.Order.Details</text>\n",
       "<polygon fill=\"none\" stroke=\"black\" points=\"28.88,-92.5 28.88,-114.5 82.88,-114.5 82.88,-92.5 28.88,-92.5\"/>\n",
       "<text text-anchor=\"start\" x=\"38.25\" y=\"-98.2\" font-family=\"Times,serif\" font-size=\"14.00\">details</text>\n",
       "<polygon fill=\"none\" stroke=\"black\" points=\"82.88,-92.5 82.88,-114.5 137.88,-114.5 137.88,-92.5 82.88,-92.5\"/>\n",
       "<text text-anchor=\"start\" x=\"92.75\" y=\"-98.2\" font-family=\"Times,serif\" font-size=\"14.00\">details</text>\n",
       "</g>\n",
       "<!-- 5e+Na/ub4ZYYipZDDdEQ/JfUROKxdUQ36egWj0wBvGJE0fk+ZU86GtKBZFCQVzBhZc1HVfFJe+zZfoynlAeK3w==&#45;&gt;h3+4yk2W+2LkTdRMVjFi3vqZLe6vUoOhUSYjf137gSmCP4dgcGsj11hPHVBL7wSSTDAnxtSdyEFTvjhlKcDYOQ== -->\n",
       "<g id=\"edge3\" class=\"edge\">\n",
       "<title>5e+Na/ub4ZYYipZDDdEQ/JfUROKxdUQ36egWj0wBvGJE0fk+ZU86GtKBZFCQVzBhZc1HVfFJe+zZfoynlAeK3w==&#45;&gt;h3+4yk2W+2LkTdRMVjFi3vqZLe6vUoOhUSYjf137gSmCP4dgcGsj11hPHVBL7wSSTDAnxtSdyEFTvjhlKcDYOQ==</title>\n",
       "<path fill=\"none\" stroke=\"black\" d=\"M83.38,-140.31C83.38,-152.69 83.38,-167.89 83.38,-181.56\"/>\n",
       "<polygon fill=\"black\" stroke=\"black\" points=\"79.88,-181.55 83.38,-191.55 86.88,-181.55 79.88,-181.55\"/>\n",
       "<text text-anchor=\"middle\" x=\"99.12\" y=\"-161.7\" font-family=\"Times,serif\" font-size=\"14.00\">Order</text>\n",
       "</g>\n",
       "<!-- tNTC5vVkRPHLnuUw6e7cBufNGzycCu1ZKe8DLLlc3fs3VPaa7Vvo2nkfELboI564TJ3x6R1Gr1KokNX+Nh/9XQ== -->\n",
       "<g id=\"node5\" class=\"node\">\n",
       "<title>tNTC5vVkRPHLnuUw6e7cBufNGzycCu1ZKe8DLLlc3fs3VPaa7Vvo2nkfELboI564TJ3x6R1Gr1KokNX+Nh/9XQ==</title>\n",
       "<polygon fill=\"none\" stroke=\"black\" points=\"9,-6.75 9,-29.25 157.75,-29.25 157.75,-6.75 9,-6.75\"/>\n",
       "<text text-anchor=\"start\" x=\"12.5\" y=\"-12.95\" font-family=\"Times,serif\" font-size=\"14.00\">Qma.Order.ReadyToSync</text>\n",
       "<polygon fill=\"none\" stroke=\"black\" points=\"8,-5.75 8,-30.25 158.75,-30.25 158.75,-5.75 8,-5.75\"/>\n",
       "</g>\n",
       "<!-- tNTC5vVkRPHLnuUw6e7cBufNGzycCu1ZKe8DLLlc3fs3VPaa7Vvo2nkfELboI564TJ3x6R1Gr1KokNX+Nh/9XQ==&#45;&gt;5e+Na/ub4ZYYipZDDdEQ/JfUROKxdUQ36egWj0wBvGJE0fk+ZU86GtKBZFCQVzBhZc1HVfFJe+zZfoynlAeK3w== -->\n",
       "<g id=\"edge4\" class=\"edge\">\n",
       "<title>tNTC5vVkRPHLnuUw6e7cBufNGzycCu1ZKe8DLLlc3fs3VPaa7Vvo2nkfELboI564TJ3x6R1Gr1KokNX+Nh/9XQ==&#45;&gt;5e+Na/ub4ZYYipZDDdEQ/JfUROKxdUQ36egWj0wBvGJE0fk+ZU86GtKBZFCQVzBhZc1HVfFJe+zZfoynlAeK3w==</title>\n",
       "<path fill=\"none\" stroke=\"black\" d=\"M83.38,-35.89C83.38,-47.34 83.38,-62.91 83.38,-77.1\"/>\n",
       "<polygon fill=\"black\" stroke=\"black\" points=\"79.88,-77.06 83.38,-87.06 86.88,-77.06 79.88,-77.06\"/>\n",
       "<text text-anchor=\"middle\" x=\"118.25\" y=\"-57.2\" font-family=\"Times,serif\" font-size=\"14.00\">OrderDetails</text>\n",
       "</g>\n",
       "</g>\n",
       "</svg>\n"
      ]
     },
     "metadata": {},
     "output_type": "display_data"
    }
   ],
   "source": [
    "jinagaClient.RenderFacts(orderReadyToSync)"
   ]
  }
 ],
 "metadata": {
  "kernelspec": {
   "display_name": ".NET (C#)",
   "language": "C#",
   "name": ".net-csharp"
  },
  "language_info": {
   "name": "polyglot-notebook"
  },
  "polyglot_notebook": {
   "kernelInfo": {
    "defaultKernelName": "csharp",
    "items": [
     {
      "aliases": [],
      "languageName": "csharp",
      "name": "csharp"
     }
    ]
   }
  }
 },
 "nbformat": 4,
 "nbformat_minor": 2
}
