{
 "cells": [
  {
   "cell_type": "code",
   "execution_count": 1,
   "metadata": {
    "dotnet_interactive": {
     "language": "csharp"
    },
    "polyglot_notebook": {
     "kernelName": "csharp"
    }
   },
   "outputs": [
    {
     "data": {
      "text/html": [
       "<div><div></div><div></div><div><strong>Installed Packages</strong><ul><li><span>Jinaga, 0.8.2</span></li><li><span>Jinaga.Graphviz, 0.8.2</span></li></ul></div></div>"
      ]
     },
     "metadata": {},
     "output_type": "display_data"
    }
   ],
   "source": [
    "#r \"nuget: Jinaga, 0.8.2\"\n",
    "#r \"nuget: Jinaga.Graphviz, 0.8.2\""
   ]
  },
  {
   "cell_type": "markdown",
   "metadata": {},
   "source": [
    "# Invalidation\n",
    "\n",
    "When receiving a graph of facts, we need to invalidate results based on the new information.\n",
    "The specification inverse function assumes that we are receiving one fact at a time.\n",
    "Adjust the algorithm to compute the difference in the projection after receiving a graph of facts.\n",
    "\n",
    "Take this example model:"
   ]
  },
  {
   "cell_type": "code",
   "execution_count": 2,
   "metadata": {
    "dotnet_interactive": {
     "language": "csharp"
    },
    "polyglot_notebook": {
     "kernelName": "csharp"
    }
   },
   "outputs": [],
   "source": [
    "using Jinaga;\n",
    "\n",
    "[FactType(\"Corporate.Company\")]\n",
    "record Company(string identifier) {}\n",
    "\n",
    "[FactType(\"Corporate.City\")]\n",
    "record City(string name) {}\n",
    "\n",
    "[FactType(\"Corporate.Office\")]\n",
    "record Office(Company company, City city)\n",
    "{\n",
    "    public Condition IsClosed => new Condition(facts =>\n",
    "        facts.Any<OfficeClosure>(closure => closure.office == this)\n",
    "    );\n",
    "}\n",
    "\n",
    "[FactType(\"Corporate.Office.Name\")]\n",
    "record OfficeName(Office office, string value, OfficeName[] prior) {}\n",
    "\n",
    "[FactType(\"Corporate.Office.Closure\")]\n",
    "record OfficeClosure(Office office, DateTime closureDate) {}"
   ]
  },
  {
   "cell_type": "markdown",
   "metadata": {},
   "source": [
    "We want to run this specification:"
   ]
  },
  {
   "cell_type": "code",
   "execution_count": 3,
   "metadata": {
    "dotnet_interactive": {
     "language": "csharp"
    },
    "polyglot_notebook": {
     "kernelName": "csharp"
    }
   },
   "outputs": [],
   "source": [
    "var officesInCompany = Given<Company>.Match((company, facts) =>\n",
    "    from office in facts.OfType<Office>()\n",
    "    where office.company == company\n",
    "    where !office.IsClosed\n",
    "\n",
    "    select new\n",
    "    {\n",
    "        office,\n",
    "        names = facts.Observable(\n",
    "            from name in facts.OfType<OfficeName>()\n",
    "            where name.office == office &&\n",
    "                !facts.Any<OfficeName>(next => next.prior.Contains(name))\n",
    "            select name.value\n",
    "        )\n",
    "    }\n",
    ");"
   ]
  },
  {
   "cell_type": "markdown",
   "metadata": {},
   "source": [
    "Two of the inverses respond to new offices and new names:"
   ]
  },
  {
   "cell_type": "code",
   "execution_count": 9,
   "metadata": {
    "dotnet_interactive": {
     "language": "csharp"
    },
    "polyglot_notebook": {
     "kernelName": "csharp"
    }
   },
   "outputs": [
    {
     "data": {
      "text/plain": [
       "(office: Corporate.Office) {\n",
       "    company: Corporate.Company [\n",
       "        company = office->company: Corporate.Company\n",
       "    ]\n",
       "} => {\n",
       "    names = {\n",
       "        name: Corporate.Office.Name [\n",
       "            name->office: Corporate.Office = office\n",
       "            !E {\n",
       "                next: Corporate.Office.Name [\n",
       "                    next->prior: Corporate.Office.Name = name\n",
       "                ]\n",
       "            }\n",
       "        ]\n",
       "    } => name.value\n",
       "    office = office\n",
       "}\n"
      ]
     },
     "metadata": {},
     "output_type": "display_data"
    },
    {
     "data": {
      "text/plain": [
       "(name: Corporate.Office.Name) {\n",
       "    office: Corporate.Office [\n",
       "        office = name->office: Corporate.Office\n",
       "        !E {\n",
       "            closure: Corporate.Office.Closure [\n",
       "                closure->office: Corporate.Office = office\n",
       "            ]\n",
       "        }\n",
       "    ]\n",
       "    company: Corporate.Company [\n",
       "        company = office->company: Corporate.Company\n",
       "    ]\n",
       "} => name.value\n"
      ]
     },
     "metadata": {},
     "output_type": "display_data"
    }
   ],
   "source": [
    "var inverses = officesInCompany.ComputeInverses();\n",
    "var officeInverse = inverses.Single(i => i.InverseSpecification.Given.Any(g => g.Name == \"office\"));\n",
    "var officeNameInverse = inverses.Single(i => i.InverseSpecification.Given.Any(g => g.Name == \"name\"));\n",
    "\n",
    "officeInverse.InverseSpecification.ToDescriptiveString().Display();\n",
    "officeNameInverse.InverseSpecification.ToDescriptiveString().Display();"
   ]
  },
  {
   "cell_type": "markdown",
   "metadata": {},
   "source": [
    "When we receive a graph containing offices and names, we run those two inverses.\n",
    "\n",
    "Suppose we receive this graph:"
   ]
  },
  {
   "cell_type": "code",
   "execution_count": 10,
   "metadata": {
    "dotnet_interactive": {
     "language": "csharp"
    },
    "polyglot_notebook": {
     "kernelName": "csharp"
    }
   },
   "outputs": [
    {
     "data": {
      "text/html": [
       "<?xml version=\"1.0\" encoding=\"UTF-8\" standalone=\"no\"?>\r\n",
       "<!DOCTYPE svg PUBLIC \"-//W3C//DTD SVG 1.1//EN\"\r\n",
       " \"http://www.w3.org/Graphics/SVG/1.1/DTD/svg11.dtd\">\r\n",
       "<!-- Generated by graphviz version 9.0.0 (20230911.1827)\r\n",
       " -->\r\n",
       "<!-- Pages: 1 -->\r\n",
       "<svg width=\"353pt\" height=\"457pt\"\r\n",
       " viewBox=\"0.00 0.00 352.50 457.00\" xmlns=\"http://www.w3.org/2000/svg\" xmlns:xlink=\"http://www.w3.org/1999/xlink\">\r\n",
       "<g id=\"graph0\" class=\"graph\" transform=\"scale(1 1) rotate(0) translate(4 453)\">\r\n",
       "<polygon fill=\"white\" stroke=\"none\" points=\"-4,4 -4,-453 348.5,-453 348.5,4 -4,4\"/>\r\n",
       "<!-- M2BrSspxPmU9hZq/0OGXCKIIFuS/wVhjbv2TaQYAL3yodutMRzqvtGC9IFM5/0WQ7YxrpHAER7zAfRUMAfQ7Cw== -->\r\n",
       "<g id=\"node1\" class=\"node\">\r\n",
       "<title>M2BrSspxPmU9hZq/0OGXCKIIFuS/wVhjbv2TaQYAL3yodutMRzqvtGC9IFM5/0WQ7YxrpHAER7zAfRUMAfQ7Cw==</title>\r\n",
       "<polygon fill=\"none\" stroke=\"black\" points=\"8,-424 8,-445 129,-445 129,-424 8,-424\"/>\r\n",
       "<text text-anchor=\"start\" x=\"10.75\" y=\"-428.7\" font-family=\"Times New Roman,serif\" font-size=\"14.00\">Corporate.Company</text>\r\n",
       "<polygon fill=\"none\" stroke=\"black\" points=\"8,-403 8,-424 70,-424 70,-403 8,-403\"/>\r\n",
       "<text text-anchor=\"start\" x=\"15\" y=\"-407.7\" font-family=\"Times New Roman,serif\" font-size=\"14.00\">identifier</text>\r\n",
       "<polygon fill=\"none\" stroke=\"black\" points=\"70,-403 70,-424 129,-424 129,-403 70,-403\"/>\r\n",
       "<text text-anchor=\"start\" x=\"76.62\" y=\"-407.7\" font-family=\"Times New Roman,serif\" font-size=\"14.00\">contoso</text>\r\n",
       "</g>\r\n",
       "<!-- +8MGIQ5sVC+YQ5s72kKOj2uBaCeH+DjHh6T6LJ+p6/UHqDZsFXIIxdi1/qxl4vQV7ySckTl+0dlo8OPPAiuZHA== -->\r\n",
       "<g id=\"node2\" class=\"node\">\r\n",
       "<title>+8MGIQ5sVC+YQ5s72kKOj2uBaCeH+DjHh6T6LJ+p6/UHqDZsFXIIxdi1/qxl4vQV7ySckTl+0dlo8OPPAiuZHA==</title>\r\n",
       "<polygon fill=\"none\" stroke=\"black\" points=\"163.5,-424 163.5,-445 253.5,-445 253.5,-424 163.5,-424\"/>\r\n",
       "<text text-anchor=\"start\" x=\"166.5\" y=\"-428.7\" font-family=\"Times New Roman,serif\" font-size=\"14.00\">Corporate.City</text>\r\n",
       "<polygon fill=\"none\" stroke=\"black\" points=\"163.5,-403 163.5,-424 206.5,-424 206.5,-403 163.5,-403\"/>\r\n",
       "<text text-anchor=\"start\" x=\"170.38\" y=\"-407.7\" font-family=\"Times New Roman,serif\" font-size=\"14.00\">name</text>\r\n",
       "<polygon fill=\"none\" stroke=\"black\" points=\"206.5,-403 206.5,-424 253.5,-424 253.5,-403 206.5,-403\"/>\r\n",
       "<text text-anchor=\"start\" x=\"213.12\" y=\"-407.7\" font-family=\"Times New Roman,serif\" font-size=\"14.00\">Dallas</text>\r\n",
       "</g>\r\n",
       "<!-- NLr4dISvvUu1kh+yMwtiY3MdFNWMTUuh3e1AqE9t8FjYa/qqRAnMQoRt6doy/BdqbT6lylm38n8KR0hveudHIg== -->\r\n",
       "<g id=\"node3\" class=\"node\">\r\n",
       "<title>NLr4dISvvUu1kh+yMwtiY3MdFNWMTUuh3e1AqE9t8FjYa/qqRAnMQoRt6doy/BdqbT6lylm38n8KR0hveudHIg==</title>\r\n",
       "<polygon fill=\"none\" stroke=\"black\" points=\"87,-318.38 87,-340.12 190,-340.12 190,-318.38 87,-318.38\"/>\r\n",
       "<text text-anchor=\"start\" x=\"90.5\" y=\"-323.82\" font-family=\"Times New Roman,serif\" font-size=\"14.00\">Corporate.Office</text>\r\n",
       "<polygon fill=\"none\" stroke=\"black\" points=\"86,-317.38 86,-341.12 191,-341.12 191,-317.38 86,-317.38\"/>\r\n",
       "</g>\r\n",
       "<!-- NLr4dISvvUu1kh+yMwtiY3MdFNWMTUuh3e1AqE9t8FjYa/qqRAnMQoRt6doy/BdqbT6lylm38n8KR0hveudHIg==&#45;&gt;M2BrSspxPmU9hZq/0OGXCKIIFuS/wVhjbv2TaQYAL3yodutMRzqvtGC9IFM5/0WQ7YxrpHAER7zAfRUMAfQ7Cw== -->\r\n",
       "<g id=\"edge1\" class=\"edge\">\r\n",
       "<title>NLr4dISvvUu1kh+yMwtiY3MdFNWMTUuh3e1AqE9t8FjYa/qqRAnMQoRt6doy/BdqbT6lylm38n8KR0hveudHIg==&#45;&gt;M2BrSspxPmU9hZq/0OGXCKIIFuS/wVhjbv2TaQYAL3yodutMRzqvtGC9IFM5/0WQ7YxrpHAER7zAfRUMAfQ7Cw==</title>\r\n",
       "<path fill=\"none\" stroke=\"black\" d=\"M125.99,-346.83C116.87,-358.91 104.22,-375.67 93.11,-390.4\"/>\r\n",
       "<polygon fill=\"black\" stroke=\"black\" points=\"90.57,-387.94 87.34,-398.03 96.16,-392.16 90.57,-387.94\"/>\r\n",
       "<text text-anchor=\"middle\" x=\"138.38\" y=\"-367.7\" font-family=\"Times New Roman,serif\" font-size=\"14.00\">company</text>\r\n",
       "</g>\r\n",
       "<!-- NLr4dISvvUu1kh+yMwtiY3MdFNWMTUuh3e1AqE9t8FjYa/qqRAnMQoRt6doy/BdqbT6lylm38n8KR0hveudHIg==&#45;&gt;+8MGIQ5sVC+YQ5s72kKOj2uBaCeH+DjHh6T6LJ+p6/UHqDZsFXIIxdi1/qxl4vQV7ySckTl+0dlo8OPPAiuZHA== -->\r\n",
       "<g id=\"edge2\" class=\"edge\">\r\n",
       "<title>NLr4dISvvUu1kh+yMwtiY3MdFNWMTUuh3e1AqE9t8FjYa/qqRAnMQoRt6doy/BdqbT6lylm38n8KR0hveudHIg==&#45;&gt;+8MGIQ5sVC+YQ5s72kKOj2uBaCeH+DjHh6T6LJ+p6/UHqDZsFXIIxdi1/qxl4vQV7ySckTl+0dlo8OPPAiuZHA==</title>\r\n",
       "<path fill=\"none\" stroke=\"black\" d=\"M153.51,-347.05C158.41,-352.72 163.81,-359.17 168.5,-365.25 174.5,-373.02 180.68,-381.62 186.33,-389.75\"/>\r\n",
       "<polygon fill=\"black\" stroke=\"black\" points=\"183.29,-391.49 191.83,-397.76 189.06,-387.53 183.29,-391.49\"/>\r\n",
       "<text text-anchor=\"middle\" x=\"189.62\" y=\"-367.7\" font-family=\"Times New Roman,serif\" font-size=\"14.00\">city</text>\r\n",
       "</g>\r\n",
       "<!-- ebslw+gV3XuzKrbKcGVIfgSA9kyZH0r1+aEUXzEVMDlZGYE8MH4My3jWUItytV+KccE5ajY+2u8X7jxpKew0zw== -->\r\n",
       "<g id=\"node4\" class=\"node\">\r\n",
       "<title>ebslw+gV3XuzKrbKcGVIfgSA9kyZH0r1+aEUXzEVMDlZGYE8MH4My3jWUItytV+KccE5ajY+2u8X7jxpKew0zw==</title>\r\n",
       "<polygon fill=\"none\" stroke=\"black\" points=\"197.5,-233.5 197.5,-254.5 335.5,-254.5 335.5,-233.5 197.5,-233.5\"/>\r\n",
       "<text text-anchor=\"start\" x=\"200.5\" y=\"-238.2\" font-family=\"Times New Roman,serif\" font-size=\"14.00\">Corporate.Office.Name</text>\r\n",
       "<polygon fill=\"none\" stroke=\"black\" points=\"197.5,-212.5 197.5,-233.5 250.5,-233.5 250.5,-212.5 197.5,-212.5\"/>\r\n",
       "<text text-anchor=\"start\" x=\"209.75\" y=\"-217.2\" font-family=\"Times New Roman,serif\" font-size=\"14.00\">value</text>\r\n",
       "<polygon fill=\"none\" stroke=\"black\" points=\"250.5,-212.5 250.5,-233.5 335.5,-233.5 335.5,-212.5 250.5,-212.5\"/>\r\n",
       "<text text-anchor=\"start\" x=\"262.62\" y=\"-217.2\" font-family=\"Times New Roman,serif\" font-size=\"14.00\">Dallas One</text>\r\n",
       "<polygon fill=\"none\" stroke=\"black\" points=\"196.5,-211.5 196.5,-255.5 336.5,-255.5 336.5,-211.5 196.5,-211.5\"/>\r\n",
       "</g>\r\n",
       "<!-- ebslw+gV3XuzKrbKcGVIfgSA9kyZH0r1+aEUXzEVMDlZGYE8MH4My3jWUItytV+KccE5ajY+2u8X7jxpKew0zw==&#45;&gt;NLr4dISvvUu1kh+yMwtiY3MdFNWMTUuh3e1AqE9t8FjYa/qqRAnMQoRt6doy/BdqbT6lylm38n8KR0hveudHIg== -->\r\n",
       "<g id=\"edge3\" class=\"edge\">\r\n",
       "<title>ebslw+gV3XuzKrbKcGVIfgSA9kyZH0r1+aEUXzEVMDlZGYE8MH4My3jWUItytV+KccE5ajY+2u8X7jxpKew0zw==&#45;&gt;NLr4dISvvUu1kh+yMwtiY3MdFNWMTUuh3e1AqE9t8FjYa/qqRAnMQoRt6doy/BdqbT6lylm38n8KR0hveudHIg==</title>\r\n",
       "<path fill=\"none\" stroke=\"black\" d=\"M232.53,-259.38C213.4,-273.39 189.63,-290.8 170.78,-304.61\"/>\r\n",
       "<polygon fill=\"black\" stroke=\"black\" points=\"168.91,-301.64 162.91,-310.37 173.05,-307.28 168.91,-301.64\"/>\r\n",
       "<text text-anchor=\"middle\" x=\"221.62\" y=\"-279.95\" font-family=\"Times New Roman,serif\" font-size=\"14.00\">office</text>\r\n",
       "</g>\r\n",
       "<!-- rPGto1W/tYPgCTCNtaFPvW27fWAED+ddA/1uONtxgN+FFY7yDp7v9A2TO/JxUoQXWBN5QgjJlhO9loYW7sYAzA== -->\r\n",
       "<g id=\"node5\" class=\"node\">\r\n",
       "<title>rPGto1W/tYPgCTCNtaFPvW27fWAED+ddA/1uONtxgN+FFY7yDp7v9A2TO/JxUoQXWBN5QgjJlhO9loYW7sYAzA==</title>\r\n",
       "<polygon fill=\"none\" stroke=\"black\" points=\"128.5,-129.75 128.5,-150.75 266.5,-150.75 266.5,-129.75 128.5,-129.75\"/>\r\n",
       "<text text-anchor=\"start\" x=\"131.5\" y=\"-134.45\" font-family=\"Times New Roman,serif\" font-size=\"14.00\">Corporate.Office.Name</text>\r\n",
       "<polygon fill=\"none\" stroke=\"black\" points=\"128.5,-108.75 128.5,-129.75 179.5,-129.75 179.5,-108.75 128.5,-108.75\"/>\r\n",
       "<text text-anchor=\"start\" x=\"139.75\" y=\"-113.45\" font-family=\"Times New Roman,serif\" font-size=\"14.00\">value</text>\r\n",
       "<polygon fill=\"none\" stroke=\"black\" points=\"179.5,-108.75 179.5,-129.75 266.5,-129.75 266.5,-108.75 179.5,-108.75\"/>\r\n",
       "<text text-anchor=\"start\" x=\"191.12\" y=\"-113.45\" font-family=\"Times New Roman,serif\" font-size=\"14.00\">Dallas Two</text>\r\n",
       "<polygon fill=\"none\" stroke=\"black\" points=\"127.5,-107.75 127.5,-151.75 267.5,-151.75 267.5,-107.75 127.5,-107.75\"/>\r\n",
       "</g>\r\n",
       "<!-- rPGto1W/tYPgCTCNtaFPvW27fWAED+ddA/1uONtxgN+FFY7yDp7v9A2TO/JxUoQXWBN5QgjJlhO9loYW7sYAzA==&#45;&gt;NLr4dISvvUu1kh+yMwtiY3MdFNWMTUuh3e1AqE9t8FjYa/qqRAnMQoRt6doy/BdqbT6lylm38n8KR0hveudHIg== -->\r\n",
       "<g id=\"edge4\" class=\"edge\">\r\n",
       "<title>rPGto1W/tYPgCTCNtaFPvW27fWAED+ddA/1uONtxgN+FFY7yDp7v9A2TO/JxUoQXWBN5QgjJlhO9loYW7sYAzA==&#45;&gt;NLr4dISvvUu1kh+yMwtiY3MdFNWMTUuh3e1AqE9t8FjYa/qqRAnMQoRt6doy/BdqbT6lylm38n8KR0hveudHIg==</title>\r\n",
       "<path fill=\"none\" stroke=\"black\" d=\"M176.5,-155.66C165.76,-169.9 153.63,-188.64 147.25,-207.5 136.95,-237.96 135.84,-275.13 136.61,-300.12\"/>\r\n",
       "<polygon fill=\"black\" stroke=\"black\" points=\"133.1,-299.98 137.04,-309.81 140.09,-299.66 133.1,-299.98\"/>\r\n",
       "<text text-anchor=\"middle\" x=\"162.62\" y=\"-228.07\" font-family=\"Times New Roman,serif\" font-size=\"14.00\">office</text>\r\n",
       "</g>\r\n",
       "<!-- rPGto1W/tYPgCTCNtaFPvW27fWAED+ddA/1uONtxgN+FFY7yDp7v9A2TO/JxUoQXWBN5QgjJlhO9loYW7sYAzA==&#45;&gt;ebslw+gV3XuzKrbKcGVIfgSA9kyZH0r1+aEUXzEVMDlZGYE8MH4My3jWUItytV+KccE5ajY+2u8X7jxpKew0zw== -->\r\n",
       "<g id=\"edge5\" class=\"edge\">\r\n",
       "<title>rPGto1W/tYPgCTCNtaFPvW27fWAED+ddA/1uONtxgN+FFY7yDp7v9A2TO/JxUoQXWBN5QgjJlhO9loYW7sYAzA==&#45;&gt;ebslw+gV3XuzKrbKcGVIfgSA9kyZH0r1+aEUXzEVMDlZGYE8MH4My3jWUItytV+KccE5ajY+2u8X7jxpKew0zw==</title>\r\n",
       "<path fill=\"none\" stroke=\"black\" d=\"M214.38,-155.64C223.07,-168.45 233.79,-184.27 243.25,-198.22\"/>\r\n",
       "<polygon fill=\"black\" stroke=\"black\" points=\"240.2,-199.95 248.71,-206.26 245.99,-196.02 240.2,-199.95\"/>\r\n",
       "<text text-anchor=\"middle\" x=\"249\" y=\"-176.2\" font-family=\"Times New Roman,serif\" font-size=\"14.00\">prior</text>\r\n",
       "</g>\r\n",
       "<!-- I/MlU47IReQCH2VIPHL7YRKKMcG5v1BY7dOJiYrlTgZbiu8hy8e7dDDEfUXj1K6Kf6YUbXs6W1MJW7+9d94LJw== -->\r\n",
       "<g id=\"node6\" class=\"node\">\r\n",
       "<title>I/MlU47IReQCH2VIPHL7YRKKMcG5v1BY7dOJiYrlTgZbiu8hy8e7dDDEfUXj1K6Kf6YUbXs6W1MJW7+9d94LJw==</title>\r\n",
       "<polygon fill=\"none\" stroke=\"black\" points=\"38.5,-26 38.5,-47 176.5,-47 176.5,-26 38.5,-26\"/>\r\n",
       "<text text-anchor=\"start\" x=\"41.5\" y=\"-30.7\" font-family=\"Times New Roman,serif\" font-size=\"14.00\">Corporate.Office.Name</text>\r\n",
       "<polygon fill=\"none\" stroke=\"black\" points=\"38.5,-5 38.5,-26 86.5,-26 86.5,-5 38.5,-5\"/>\r\n",
       "<text text-anchor=\"start\" x=\"48.25\" y=\"-9.7\" font-family=\"Times New Roman,serif\" font-size=\"14.00\">value</text>\r\n",
       "<polygon fill=\"none\" stroke=\"black\" points=\"86.5,-5 86.5,-26 176.5,-26 176.5,-5 86.5,-5\"/>\r\n",
       "<text text-anchor=\"start\" x=\"96.62\" y=\"-9.7\" font-family=\"Times New Roman,serif\" font-size=\"14.00\">Dallas Three</text>\r\n",
       "<polygon fill=\"none\" stroke=\"black\" points=\"37.5,-4 37.5,-48 177.5,-48 177.5,-4 37.5,-4\"/>\r\n",
       "</g>\r\n",
       "<!-- I/MlU47IReQCH2VIPHL7YRKKMcG5v1BY7dOJiYrlTgZbiu8hy8e7dDDEfUXj1K6Kf6YUbXs6W1MJW7+9d94LJw==&#45;&gt;NLr4dISvvUu1kh+yMwtiY3MdFNWMTUuh3e1AqE9t8FjYa/qqRAnMQoRt6doy/BdqbT6lylm38n8KR0hveudHIg== -->\r\n",
       "<g id=\"edge6\" class=\"edge\">\r\n",
       "<title>I/MlU47IReQCH2VIPHL7YRKKMcG5v1BY7dOJiYrlTgZbiu8hy8e7dDDEfUXj1K6Kf6YUbXs6W1MJW7+9d94LJw==&#45;&gt;NLr4dISvvUu1kh+yMwtiY3MdFNWMTUuh3e1AqE9t8FjYa/qqRAnMQoRt6doy/BdqbT6lylm38n8KR0hveudHIg==</title>\r\n",
       "<path fill=\"none\" stroke=\"black\" d=\"M107.14,-51.73C106.98,-77.69 107.34,-119.67 110.5,-155.75 115.9,-217.33 120.77,-232.37 131.5,-293.25 131.91,-295.59 132.36,-298.01 132.82,-300.43\"/>\r\n",
       "<polygon fill=\"black\" stroke=\"black\" points=\"129.35,-300.92 134.71,-310.06 136.21,-299.57 129.35,-300.92\"/>\r\n",
       "<text text-anchor=\"middle\" x=\"130.62\" y=\"-176.2\" font-family=\"Times New Roman,serif\" font-size=\"14.00\">office</text>\r\n",
       "</g>\r\n",
       "<!-- I/MlU47IReQCH2VIPHL7YRKKMcG5v1BY7dOJiYrlTgZbiu8hy8e7dDDEfUXj1K6Kf6YUbXs6W1MJW7+9d94LJw==&#45;&gt;rPGto1W/tYPgCTCNtaFPvW27fWAED+ddA/1uONtxgN+FFY7yDp7v9A2TO/JxUoQXWBN5QgjJlhO9loYW7sYAzA== -->\r\n",
       "<g id=\"edge7\" class=\"edge\">\r\n",
       "<title>I/MlU47IReQCH2VIPHL7YRKKMcG5v1BY7dOJiYrlTgZbiu8hy8e7dDDEfUXj1K6Kf6YUbXs6W1MJW7+9d94LJw==&#45;&gt;rPGto1W/tYPgCTCNtaFPvW27fWAED+ddA/1uONtxgN+FFY7yDp7v9A2TO/JxUoQXWBN5QgjJlhO9loYW7sYAzA==</title>\r\n",
       "<path fill=\"none\" stroke=\"black\" d=\"M129.52,-51.89C141.07,-64.95 155.38,-81.13 167.88,-95.27\"/>\r\n",
       "<polygon fill=\"black\" stroke=\"black\" points=\"165.15,-97.46 174.4,-102.63 170.39,-92.82 165.15,-97.46\"/>\r\n",
       "<text text-anchor=\"middle\" x=\"171\" y=\"-72.45\" font-family=\"Times New Roman,serif\" font-size=\"14.00\">prior</text>\r\n",
       "</g>\r\n",
       "</g>\r\n",
       "</svg>\r\n"
      ]
     },
     "metadata": {},
     "output_type": "display_data"
    }
   ],
   "source": [
    "var j = JinagaClient.Create();\n",
    "\n",
    "var contoso = await j.Fact(new Company(\"contoso\"));\n",
    "var dallas = await j.Fact(new City(\"Dallas\"));\n",
    "var dallasOffice = await j.Fact(new Office(contoso, dallas));\n",
    "var dallasOfficeName1 = await j.Fact(new OfficeName(dallasOffice, \"Dallas One\", new OfficeName[0]));\n",
    "var dallasOfficeName2 = await j.Fact(new OfficeName(dallasOffice, \"Dallas Two\", new OfficeName[] { dallasOfficeName1 }));\n",
    "var dallasOfficeName3 = await j.Fact(new OfficeName(dallasOffice, \"Dallas Three\", new OfficeName[] { dallasOfficeName2 }));\n",
    "\n",
    "Jinaga.Graphviz.Renderer.RenderFacts(dallasOffice, dallasOfficeName1, dallasOfficeName2, dallasOfficeName3)"
   ]
  },
  {
   "cell_type": "markdown",
   "metadata": {},
   "source": [
    "We will notify in topological order.\n",
    "The first inverse fires for the office:"
   ]
  },
  {
   "cell_type": "code",
   "execution_count": 13,
   "metadata": {
    "dotnet_interactive": {
     "language": "csharp"
    },
    "polyglot_notebook": {
     "kernelName": "csharp"
    }
   },
   "outputs": [
    {
     "data": {
      "text/html": [
       "<table><thead><tr><th><i>index</i></th><th>value</th></tr></thead><tbody><tr><td>0</td><td><details class=\"dni-treeview\"><summary><span class=\"dni-code-hint\"><code>{ office = Office { company = Company { identifier = contoso }, city = City { name = Dallas }, IsClosed = Jinaga.Condition }, names = Jinaga.Observers.ImmutableObservableCollection`1[System.String] }</code></span></summary><div><table><thead><tr></tr></thead><tbody><tr><td>office</td><td><details class=\"dni-treeview\"><summary><span class=\"dni-code-hint\"><code>Office { company = Company { identifier = contoso }, city = City { name = Dallas }, IsClosed = Jinaga.Condition }</code></span></summary><div><table><thead><tr></tr></thead><tbody><tr><td>company</td><td><details class=\"dni-treeview\"><summary><span class=\"dni-code-hint\"><code>Company { identifier = contoso }</code></span></summary><div><table><thead><tr></tr></thead><tbody><tr><td>identifier</td><td><div class=\"dni-plaintext\"><pre>contoso</pre></div></td></tr></tbody></table></div></details></td></tr><tr><td>city</td><td><details class=\"dni-treeview\"><summary><span class=\"dni-code-hint\"><code>City { name = Dallas }</code></span></summary><div><table><thead><tr></tr></thead><tbody><tr><td>name</td><td><div class=\"dni-plaintext\"><pre>Dallas</pre></div></td></tr></tbody></table></div></details></td></tr><tr><td>IsClosed</td><td><details class=\"dni-treeview\"><summary><span class=\"dni-code-hint\"><code>Jinaga.Condition</code></span></summary><div><table><thead><tr></tr></thead><tbody><tr><td>Body</td><td><details class=\"dni-treeview\"><summary><span class=\"dni-code-hint\"><code>facts =&gt; facts.Any(closure =&gt; (closure.office == Office { company = Company { identifier = contoso }, city = City { name = Dallas }, IsClosed = Jinaga.Condition }))</code></span></summary><div><table><thead><tr></tr></thead><tbody><tr><td>Type</td><td><span><a href=\"https://docs.microsoft.com/dotnet/api/system.func-2?view=net-7.0\">System.Func&lt;Jinaga.Repository.FactRepository,System.Boolean&gt;</a></span></td></tr><tr><td>NodeType</td><td><span>Lambda</span></td></tr><tr><td>Parameters</td><td><table><thead><tr><th><i>index</i></th><th>value</th></tr></thead><tbody><tr><td>0</td><td>facts</td></tr></tbody></table></td></tr><tr><td>Name</td><td><div class=\"dni-plaintext\"><pre>&lt;null&gt;</pre></div></td></tr><tr><td>Body</td><td><details class=\"dni-treeview\"><summary><span class=\"dni-code-hint\"><code>facts.Any(closure =&gt; (closure.office == Office { company = Company { identifier = contoso }, city = City { name = Dallas }, IsClosed = Jinaga.Condition }))</code></span></summary><div><table><thead><tr></tr></thead><tbody><tr><td>ArgumentCount</td><td>1</td></tr><tr><td>NodeType</td><td>Call</td></tr><tr><td>Type</td><td>System.Boolean</td></tr><tr><td>Method</td><td>Boolean Any[OfficeClosure](System.Linq.Expressions.Expression`1[System.Func`2[Submission#2+OfficeClosure,System.Boolean]])</td></tr><tr><td>Object</td><td>facts</td></tr><tr><td>Arguments</td><td>[ closure => (closure.office == Office { company = Company { identifier = contoso }, city = City { name = Dallas }, IsClosed = Jinaga.Condition }) ]</td></tr><tr><td>CanReduce</td><td>False</td></tr></tbody></table></div></details></td></tr><tr><td>ReturnType</td><td><span><a href=\"https://docs.microsoft.com/dotnet/api/system.boolean?view=net-7.0\">System.Boolean</a></span></td></tr><tr><td>TailCall</td><td><div class=\"dni-plaintext\"><pre>False</pre></div></td></tr><tr><td>CanReduce</td><td><div class=\"dni-plaintext\"><pre>False</pre></div></td></tr></tbody></table></div></details></td></tr></tbody></table></div></details></td></tr></tbody></table></div></details></td></tr><tr><td>names</td><td><details class=\"dni-treeview\"><summary><span class=\"dni-code-hint\"><code>[ Dallas Three ]</code></span></summary><div><table><thead><tr></tr></thead><tbody><tr><td><i>(values)</i></td><td><div class=\"dni-plaintext\"><pre>[ Dallas Three ]</pre></div></td></tr></tbody></table></div></details></td></tr></tbody></table></div></details></td></tr></tbody></table><style>\r\n",
       ".dni-code-hint {\r\n",
       "    font-style: italic;\r\n",
       "    overflow: hidden;\r\n",
       "    white-space: nowrap;\r\n",
       "}\r\n",
       ".dni-treeview {\r\n",
       "    white-space: nowrap;\r\n",
       "}\r\n",
       ".dni-treeview td {\r\n",
       "    vertical-align: top;\r\n",
       "    text-align: start;\r\n",
       "}\r\n",
       "details.dni-treeview {\r\n",
       "    padding-left: 1em;\r\n",
       "}\r\n",
       "table td {\r\n",
       "    text-align: start;\r\n",
       "}\r\n",
       "table tr { \r\n",
       "    vertical-align: top; \r\n",
       "    margin: 0em 0px;\r\n",
       "}\r\n",
       "table tr td pre \r\n",
       "{ \r\n",
       "    vertical-align: top !important; \r\n",
       "    margin: 0em 0px !important;\r\n",
       "} \r\n",
       "table th {\r\n",
       "    text-align: start;\r\n",
       "}\r\n",
       "</style>"
      ]
     },
     "metadata": {},
     "output_type": "display_data"
    }
   ],
   "source": [
    "var typedOfficeInverse = Given<Office>.Match((office, facts) =>\n",
    "    from company in facts.OfType<Company>()\n",
    "    where company == office.company\n",
    "\n",
    "    select new\n",
    "    {\n",
    "        office,\n",
    "        names = facts.Observable(\n",
    "            from name in facts.OfType<OfficeName>()\n",
    "            where name.office == office &&\n",
    "                !facts.Any<OfficeName>(next => next.prior.Contains(name))\n",
    "            select name.value\n",
    "        )\n",
    "    }\n",
    ");\n",
    "\n",
    "await j.Query(typedOfficeInverse, dallasOffice)"
   ]
  },
  {
   "cell_type": "markdown",
   "metadata": {},
   "source": [
    "We notify the office.\n",
    "Then we notify for the name -- Dallas Three.\n",
    "\n",
    "The second fires for the names:"
   ]
  },
  {
   "cell_type": "code",
   "execution_count": 14,
   "metadata": {
    "dotnet_interactive": {
     "language": "csharp"
    },
    "polyglot_notebook": {
     "kernelName": "csharp"
    }
   },
   "outputs": [
    {
     "data": {
      "text/html": [
       "<table><thead><tr><th><i>index</i></th><th>value</th></tr></thead><tbody><tr><td>0</td><td><div class=\"dni-plaintext\"><pre>[ Dallas One ]</pre></div></td></tr><tr><td>1</td><td><div class=\"dni-plaintext\"><pre>[ Dallas Two ]</pre></div></td></tr><tr><td>2</td><td><div class=\"dni-plaintext\"><pre>[ Dallas Three ]</pre></div></td></tr></tbody></table><style>\r\n",
       ".dni-code-hint {\r\n",
       "    font-style: italic;\r\n",
       "    overflow: hidden;\r\n",
       "    white-space: nowrap;\r\n",
       "}\r\n",
       ".dni-treeview {\r\n",
       "    white-space: nowrap;\r\n",
       "}\r\n",
       ".dni-treeview td {\r\n",
       "    vertical-align: top;\r\n",
       "    text-align: start;\r\n",
       "}\r\n",
       "details.dni-treeview {\r\n",
       "    padding-left: 1em;\r\n",
       "}\r\n",
       "table td {\r\n",
       "    text-align: start;\r\n",
       "}\r\n",
       "table tr { \r\n",
       "    vertical-align: top; \r\n",
       "    margin: 0em 0px;\r\n",
       "}\r\n",
       "table tr td pre \r\n",
       "{ \r\n",
       "    vertical-align: top !important; \r\n",
       "    margin: 0em 0px !important;\r\n",
       "} \r\n",
       "table th {\r\n",
       "    text-align: start;\r\n",
       "}\r\n",
       "</style>"
      ]
     },
     "metadata": {},
     "output_type": "display_data"
    }
   ],
   "source": [
    "var typedNameInverse = Given<OfficeName>.Match((name, facts) =>\n",
    "    from office in facts.OfType<Office>()\n",
    "    where office == name.office\n",
    "    where !office.IsClosed\n",
    "    from company in facts.OfType<Company>()\n",
    "    where company == office.company\n",
    "\n",
    "    select name.value\n",
    ");\n",
    "\n",
    "await Task.WhenAll(\n",
    "    j.Query(typedNameInverse, dallasOfficeName1),\n",
    "    j.Query(typedNameInverse, dallasOfficeName2),\n",
    "    j.Query(typedNameInverse, dallasOfficeName3)\n",
    ")"
   ]
  },
  {
   "cell_type": "markdown",
   "metadata": {},
   "source": [
    "Now we notify for Dallas One and Dallas Two.\n",
    "We try to notify for Dallas Three, but it is discarded as a duplicate.\n",
    "\n",
    "The final value is Dallas Two."
   ]
  }
 ],
 "metadata": {
  "kernelspec": {
   "display_name": ".NET (C#)",
   "language": "C#",
   "name": ".net-csharp"
  },
  "language_info": {
   "name": "polyglot-notebook"
  },
  "polyglot_notebook": {
   "kernelInfo": {
    "defaultKernelName": "csharp",
    "items": [
     {
      "aliases": [],
      "languageName": "csharp",
      "name": "csharp"
     }
    ]
   }
  }
 },
 "nbformat": 4,
 "nbformat_minor": 2
}
